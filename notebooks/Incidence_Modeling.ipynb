{
 "cells": [
  {
   "cell_type": "code",
   "execution_count": null,
   "metadata": {
    "slideshow": {
     "slide_type": "skip"
    }
   },
   "outputs": [],
   "source": [
    "from IPython.core.display import display, HTML\n",
    "display(HTML(\"<style>.container { width:110% !important; }</style>\"))"
   ]
  },
  {
   "cell_type": "markdown",
   "metadata": {
    "slideshow": {
     "slide_type": "slide"
    }
   },
   "source": [
    "# Modeling Incidence Rates with GLMs\n",
    "\n",
    "  \n",
    "<br>\n",
    " \n",
    "James D. Triveri     \n",
    "2019-02-14\n"
   ]
  },
  {
   "cell_type": "markdown",
   "metadata": {
    "slideshow": {
     "slide_type": "slide"
    }
   },
   "source": [
    "# Introduction\n",
    "\n",
    ">In practice, we do not know the values of a proposed model's parameters, but we do know the data. We use the likelihood function to observe how the function changes for different parameter values while holding the data fixed.     \n",
    "<br>\n",
    "We can make use of this to judge which values of the parameters lead to greater relative chances for the sample to occur. Larger values of the likelihood correspond to values of the parameters that are relatively better supported by the data.    \n",
    "<br>\n",
    "In short, ***the underlying goal of a likelihood is to determine which parameters make the given data most likely***. \n"
   ]
  },
  {
   "cell_type": "markdown",
   "metadata": {
    "slideshow": {
     "slide_type": "slide"
    }
   },
   "source": [
    "## Maximum Likelihood Review\n",
    "\n",
    "\n",
    ">The joint density of $n$ independently distributed observations $\\mathbf{y} = (y_{1}, \\cdots, y_{n})^{T}$ is given by:<br><br>\n",
    "$$\n",
    "f(\\mathbf{y}|\\mathbf{\\beta}) = \\prod_{i=1}^{n} f_{i}(y_{i}|\\mathbf{\\beta})\n",
    "$$\n"
   ]
  },
  {
   "cell_type": "markdown",
   "metadata": {
    "slideshow": {
     "slide_type": "slide"
    }
   },
   "source": [
    "## Maximum Likelihood Review\n",
    "\n",
    ">When this expression is interpreted as a function of unknown $\\beta$ given known data $y$, we obtain the *likelihood* function:<br><br>\n",
    "$$\n",
    "L(\\mathbf{\\beta}|\\mathbf{y}) = \\prod_{i=1}^{n} f_{i}(y_{i}|\\mathbf{\\beta})\n",
    "$$\n",
    "<br>\n"
   ]
  },
  {
   "cell_type": "markdown",
   "metadata": {
    "slideshow": {
     "slide_type": "slide"
    }
   },
   "source": [
    "## Maximum Likelihood Review\n",
    "\n",
    ">Solving the likelihood equation can be difficult. This can be partially alleviated by logging the likelihood expression, arriving at an expression for the *log-likelihood*:<br><br>\n",
    "$$\n",
    "\\mathcal{L}(\\mathbf{\\beta}|\\mathbf{y}) = \\sum_{i=1}^{n} f_{i}(y_{i}|\\mathbf{\\beta})\n",
    "$$\n",
    "<br>\n"
   ]
  },
  {
   "cell_type": "markdown",
   "metadata": {
    "slideshow": {
     "slide_type": "slide"
    }
   },
   "source": [
    "## Poisson Estimating Equations\n",
    "\n",
    ">A linear model can be fit by solving closed form equations. In the case of the OLS, we can maximize the log-likelihood and find an analytical solution directly.<br><br> \n",
    "Unfortunately, that cannot be done with Generalized Linear Models including Poisson regression. Instead, an iterative approach such as Newton-Raphson or Iterative Reweighted Least Squares (IRLS) is used.<br><br>  \n",
    "This is a consequence of the fact that the weight matrix $W$, and the working response $z$, change at each iteration. \n",
    "<br>"
   ]
  },
  {
   "cell_type": "markdown",
   "metadata": {
    "slideshow": {
     "slide_type": "slide"
    }
   },
   "source": [
    "## Poisson Estimating Equations\n",
    "\n",
    ">Recall that the Poisson probability density function with mean $\\mu$ is defined as:<br><br>          \n",
    "$$\n",
    "f(y) = \\frac{\\mu^{y} e^{-\\mu}}{y!}\n",
    "$$\n",
    "<br>      "
   ]
  },
  {
   "cell_type": "markdown",
   "metadata": {
    "slideshow": {
     "slide_type": "slide"
    }
   },
   "source": [
    "## Poisson Estimating Equations\n",
    "\n",
    ">For a dataset with $n$ observations assumed to follow a Poisson distribution, with each observation having mean parameter $\\mu_{i}$, the likelihood is given by:<br><br>         \n",
    "$$ \n",
    "L = \\prod_{i=1}^{n} \\frac{\\mu_{i}^{y}e^{-\\mu_{i}}}{y_{i}!},\n",
    "$$\n",
    "<br><br>\n",
    "and similarly the log-likelihood as:<br><br> \n",
    "$$\n",
    "\\mathcal{L} = \\sum_{i=1}^{n} y_{i} Ln(\\mu_{i}) - \\mu_{i} - Ln(y_{i}!)\n",
    "$$\n",
    "<br>\n"
   ]
  },
  {
   "cell_type": "markdown",
   "metadata": {
    "slideshow": {
     "slide_type": "slide"
    }
   },
   "source": [
    "## Poisson Estimating Equations\n",
    "\n",
    ">Every GLM has an associated link function, which specifies the relationship between the linear predictor and the mean of the distribution function. For the Poisson GLM is the ***log link***:<br><br> \n",
    "$$\n",
    "Ln(\\mu_{i}) = \\eta_{i} = x_{i}^{T}\\beta\n",
    "$$\n",
    "<br>\n"
   ]
  },
  {
   "cell_type": "markdown",
   "metadata": {
    "slideshow": {
     "slide_type": "slide"
    }
   },
   "source": [
    "## Poisson Estimating Equations\n",
    "\n",
    ">Then the *inverse link* is the transformation required to obtain the mean. For Poisson model, this is the exponential function:<br>       \n",
    "$$\n",
    "\\mu_{i} = e^{\\eta_{i}} = e^{x_{i}^{T}\\beta}\n",
    "$$\n",
    "<br>"
   ]
  },
  {
   "cell_type": "markdown",
   "metadata": {
    "slideshow": {
     "slide_type": "slide"
    }
   },
   "source": [
    ">We can substitute this expression for $\\mu_{i}$ into the Poisson log-likelihood equation, resulting in:<br><br>      \n",
    "$$\n",
    "\\mathcal{L} = \\sum_{i=1}^{n} \\big(y_{i} (x_{i}^{T}\\beta)  - exp(x_{i}^{T}\\beta) - Ln(y_{i}!)\\big)\n",
    "$$\n",
    "<br>"
   ]
  },
  {
   "cell_type": "markdown",
   "metadata": {
    "slideshow": {
     "slide_type": "slide"
    }
   },
   "source": [
    ">The ***gradient vector*** (score) is the first derivative of the log-likelihood function with respect to $\\beta$:<br><br>        \n",
    "$$\n",
    "\\frac{\\partial \\mathcal{L}}{\\partial \\beta} = \\sum_{i=1}^{n} \\big((y_{i} - exp(x_{i}^{T}\\beta))x_{i}\\big)\n",
    "$$\n",
    "<br>\n",
    "This expression is set to 0 and solved to obtained the maximum likelihood estimating equations. \n",
    "<br>\n"
   ]
  },
  {
   "cell_type": "markdown",
   "metadata": {
    "slideshow": {
     "slide_type": "slide"
    }
   },
   "source": [
    ">The ***Hessian matrix*** is calculated as the second derivative of the log-likelihood function and is negative definite for $\\beta$. It can be \n",
    "expressed as:<br><br>     \n",
    "$$\n",
    "\\frac{\\partial^{2} \\mathcal{L}}{\\partial \\beta \\partial \\beta^{T}} = -\\sum_{i=1}^{n} \\big(exp(x_{i}^{T}\\beta)\\big)x_{i}x_{j}^{T}\n",
    "$$\n",
    "<br>\n",
    "\n"
   ]
  },
  {
   "cell_type": "markdown",
   "metadata": {
    "slideshow": {
     "slide_type": "slide"
    }
   },
   "source": [
    ">Estimation of the maximum likelihood covariance matrix is based on the negative inverse of the Hessian:<br><br> \n",
    "$$\n",
    "\\sum = -H^{-1} = \\Bigg[\\sum_{i=1}^{n} \\big(exp(x_{i}^{T}\\beta)\\big)x_{i}x_{j}^{T} \\Bigg]^{-1}\n",
    "$$\n",
    "<br><br>\n",
    "This is computed from the last iteration of the estimation procedure. \n",
    "<br>\n"
   ]
  },
  {
   "cell_type": "markdown",
   "metadata": {
    "slideshow": {
     "slide_type": "slide"
    }
   },
   "source": [
    "## IRLS Algorithm Walkthrough\n",
    "<br>   \n",
    "\n",
    ">- $X$ is a n-by-p design matrix                        \n",
    "- $y$ is a n-by-1 vector representing the response            \n",
    "- $\\text{offset}$ is a n-by-1 vector representing the exposure           -$\\mu$ is a n-by-1 vector representing the mean of each observation      \n",
    "- $\\eta$ is a n-by-1 vector representing the linear component, $\\eta = Ln(\\mu)$        \n",
    "- $W$ is a n-by-n diagonal matrix with each value equal to $\\mu$ (weight matrix)     \n",
    "- $z$ is a n-by-1 vector representing the working response               \n",
    "- $\\epsilon$ represents the change in deviance below which iteration will terminate      \n",
    "<br>     \n"
   ]
  },
  {
   "cell_type": "markdown",
   "metadata": {
    "slideshow": {
     "slide_type": "slide"
    }
   },
   "source": [
    "##  Pseudocode: Variable Initialization\n",
    "<br>\n",
    "\n",
    ">- $\\qquad \\text{deviance} = 0$      \n",
    "- $\\qquad \\mu = \\text{mean(y)}$    \n",
    "- $\\qquad \\eta = Ln(\\mu)$    \n",
    "- $\\qquad epsilon = .0001$   \n",
    "- $\\qquad \\Delta \\text{deviance}$ = $\\infty$     \n",
    "<br>    \n"
   ]
  },
  {
   "cell_type": "markdown",
   "metadata": {
    "slideshow": {
     "slide_type": "slide"
    }
   },
   "source": [
    "**WHILE** $|\\Delta \\text{deviance}| \\gt \\epsilon$:\n",
    "\n",
    ">$\\qquad W$ = diag($\\mu$)\n",
    "<br>    \n",
    "$\\qquad z$ = $\\eta + \\frac{y - \\mu}{\\mu} - \\text{offset}$\n",
    "<br>    \n",
    "$\\qquad \\beta = (X^{T}WX)^{-1}X^{T}Wz$   \n",
    "<br>\n",
    "$\\qquad \\eta = X\\beta + \\text{offset}$      \n",
    "<br>\n",
    "$\\qquad \\mu = exp(\\eta)$                      \n",
    "<br>\n",
    "$ \\qquad \\text{deviance}_{0} = \\text{deviance}$\n",
    "<br>  \n",
    "$ \\qquad \\text{deviance} = 2 \\sum \\big(yLn(y/\\mu) - (y-\\mu)\\big)$\n",
    "<br>  \n",
    "$ \\qquad \\Delta \\text{deviance} = |\\text{deviance} - \\text{deviance}_{0}|$\n",
    "<br>\n"
   ]
  },
  {
   "cell_type": "markdown",
   "metadata": {
    "slideshow": {
     "slide_type": "slide"
    }
   },
   "source": [
    "## Coefficient Estimates\n",
    "<br>  \n",
    "\n",
    "\n",
    ">The expression:<br>  \n",
    "$$\n",
    "\\beta = (X^{T}WX)^{-1}X^{T}Wz\n",
    "$$ \n",
    "<br>\n",
    "Determines the maximum likelihood parameter estimates. This differs from the least squares normal equations:<br>      \n",
    "$$\n",
    "(X^{T}X)^{-1}X^{T}y\n",
    "$$ \n",
    "<br>\n",
    "by weight matrix $W$ and working response $z$."
   ]
  },
  {
   "cell_type": "markdown",
   "metadata": {
    "slideshow": {
     "slide_type": "slide"
    }
   },
   "source": [
    "## Sample Implementation\n",
    "<br>\n",
    "\n",
    ">What follows is a custom implementation of Iterative Reweighted Least Squares which predicts incidence based on explanatory variables `GENDER` and `AGE_CATEGORY`.\n",
    "<br>\n"
   ]
  },
  {
   "cell_type": "code",
   "execution_count": 1,
   "metadata": {
    "slideshow": {
     "slide_type": "fragment"
    }
   },
   "outputs": [
    {
     "name": "stdout",
     "output_type": "stream",
     "text": [
      "\n",
      "[=== Summary =====================================================]\n",
      "\n",
      "Fisher Scoring Iterations: 5\n",
      "\n",
      "Deviance:\n",
      "\n",
      "(0, 41.74433176089332)\n",
      "(1, 6.506441615556424)\n",
      "(2, 1.5402972256144585)\n",
      "(3, 1.1665754974814875)\n",
      "(4, 1.1622359769727921)\n",
      "(5, 1.1622352195014385)\n",
      "\n",
      "Loglikelihood:\n",
      "\n",
      "(0, -44.33480519279277)\n",
      "(1, -26.715860120124326)\n",
      "(2, -24.232787925153332)\n",
      "(3, -24.045927061086836)\n",
      "(4, -24.043757300832507)\n",
      "(5, -24.04375692209686)\n",
      "\n",
      "Variance-Covariance Matrix:\n",
      "\n",
      "[[ 0.16898 -0.16648 -0.16628 -0.16692 -0.16624 -0.00638]\n",
      " [-0.16648  0.17995  0.16663  0.16659  0.16663 -0.00034]\n",
      " [-0.16628  0.16663  0.18552  0.16656  0.16666 -0.00089]\n",
      " [-0.16692  0.16659  0.16656  0.17752  0.16656  0.00084]\n",
      " [-0.16624  0.16663  0.16666  0.16656  0.20833 -0.001  ]\n",
      " [-0.00638 -0.00034 -0.00089  0.00084 -0.001    0.01718]]\n",
      "\n",
      "[=================================================================]\n",
      "\n",
      "\n"
     ]
    }
   ],
   "source": [
    "\"\"\"\n",
    "IRLS pre-processing and setup. \n",
    "\"\"\"\n",
    "import numpy as np\n",
    "import pandas as pd\n",
    "import matplotlib as mpl\n",
    "import matplotlib.pyplot as plt\n",
    "from sqlalchemy import create_engine\n",
    "from numpy.random import RandomState\n",
    "import statsmodels.api as sm\n",
    "import statsmodels.formula.api as smf\n",
    "from scipy import special\n",
    "from scipy import stats\n",
    "from numpy.linalg import inv\n",
    "\n",
    "pd.set_option('display.max_columns', 10000)\n",
    "pd.set_option('display.width', 50000)\n",
    "np.set_printoptions(suppress=True, precision=5)\n",
    "pd.options.mode.chained_assignment = None\n",
    "\n",
    "dforiginal      = pd.read_csv(\"U:/Repos/LTC/Incidence_Model/Datasets/dfgrpd.csv\")\n",
    "cat_fields      = [\"GENDER\", \"AGE_CATEGORY\"]\n",
    "dfinit_         = dforiginal[cat_fields + [\"INCIDENCE_MNTH\", \"EXPOSURE\"]]\n",
    "dfinit          = pd.get_dummies(dfinit_, columns=cat_fields, drop_first=True)\n",
    "dfinit.columns  = [i.upper() for i in dfinit.columns]\n",
    "response_fields = [\"INCIDENCE_MNTH\", \"EXPOSURE\"]\n",
    "design_fields   = list(set(dfinit.columns).difference(set(response_fields)))\n",
    "dfgrpd          = dfinit.groupby(design_fields, as_index=False).sum()\n",
    "offset          = dfgrpd.EXPOSURE.values.reshape(dfgrpd.EXPOSURE.values.size, 1)\n",
    "Xinit           = dfgrpd[design_fields]\n",
    "Xintercept      = np.ones(Xinit.shape[0]).reshape(Xinit.shape[0], 1)\n",
    "X               = np.hstack([Xintercept, Xinit])\n",
    "y               = dfgrpd.INCIDENCE_MNTH.values.reshape(Xinit.shape[0], 1)\n",
    "\n",
    "\n",
    "def deviance(y, mu):\n",
    "    \"\"\"\n",
    "    Compute Poisson deviance.\n",
    "    \"\"\"\n",
    "    y  = y.ravel().tolist()\n",
    "    mu = mu.ravel().tolist()\n",
    "    def f(yi, mui):\n",
    "        return(yi * np.log(yi / mui) - (yi - mui))\n",
    "    v = np.asarray([0 if (i==0 or j==0) else f(i, j)  for i, j in zip(y, mu)])\n",
    "    return(2 * v.sum())\n",
    "\n",
    "\n",
    "def likelihood(y, mu):\n",
    "    \"\"\"\n",
    "    Compute Poisson likelihood.\n",
    "    \"\"\"\n",
    "    v = y * np.log(mu) - mu - np.log(special.factorial(y))\n",
    "    return(np.exp(v).sum())\n",
    "\n",
    "                                     \n",
    "def loglikelihood(y, mu):\n",
    "    \"\"\"\n",
    "    Compute Poisson log-likelihood.\n",
    "    \"\"\"\n",
    "    y  = y.ravel()\n",
    "    mu = mu.ravel()\n",
    "    def f(yi, mui):\n",
    "        return(yi * np.log(mui) - mui - np.log(special.factorial(yi)))\n",
    "    v = np.asarray([0 if i==0 else f(i, j) for i, j in zip(y, mu)])\n",
    "    return(v.sum())\n",
    "\n",
    "\n",
    "\n",
    "coeffs = list()  \n",
    "loglik = list()\n",
    "devlst = list()\n",
    "tol    = .00001\n",
    "ddev   = np.Inf\n",
    "mu0    = (y + y.mean()) / 2\n",
    "eta0   = np.log(mu0)\n",
    "mu0    = np.exp(eta0)  \n",
    "dev0   = deviance(y=y, mu=mu0)\n",
    "llk0   = loglikelihood(y=y, mu=mu0)\n",
    "fsi    = 0           # Fisher scoring iteration counter\n",
    "\n",
    "\n",
    "# Append initial deviance, loglikelihood and parameter estimates.\n",
    "devlst.append(dev0); loglik.append(llk0)\n",
    "\n",
    "\n",
    "\n",
    "while np.abs(ddev) > tol:\n",
    "    \n",
    "    fsi+=1\n",
    "    \n",
    "    # Compute updated W, working response, coeffs, linear component and mean.\n",
    "    W   = np.diag(np.ones(X.shape[0])) * mu0\n",
    "    z   = (eta0 + ((y - mu0) / mu0) - np.log(offset)).reshape(y.size, 1)\n",
    "    B   = inv((X.T @ W @ X)) @ (X.T @ W @ z)\n",
    "    eta = X @ B.reshape(B.size, 1) + np.log(offset)\n",
    "    mu  = np.exp(eta).reshape(eta.size, 1)\n",
    "    \n",
    "    # Compute updated deviance.\n",
    "    dev  = deviance(y=y, mu=mu)\n",
    "    llk  = loglikelihood(y=y, mu=mu)\n",
    "    ddev = dev0 - dev\n",
    "    vcov = inv((X.T @ W @ X))\n",
    "    mu0, eta0, llk0, dev0 = mu, eta, llk, dev\n",
    "\n",
    "    # Append updated parameters, loglikelihood and deviance.\n",
    "    devlst.append(dev0); loglik.append(llk0); coeffs.append(B)\n",
    "\n",
    "    \n",
    "print(\"\\n[=== Summary =====================================================]\\n\")\n",
    "print(f\"Fisher Scoring Iterations: {fsi}\\n\")\n",
    "print(\"Deviance:\\n\")\n",
    "for j in enumerate(devlst): print(j)\n",
    "print(\"\")\n",
    "print(\"Loglikelihood:\\n\")\n",
    "for k in enumerate(loglik): print(k)\n",
    "print(\"\")\n",
    "print(\"Variance-Covariance Matrix:\\n\")\n",
    "print(vcov)\n",
    "print(\"\\n[=================================================================]\\n\")\n",
    "print(\"\")\n"
   ]
  },
  {
   "cell_type": "markdown",
   "metadata": {
    "slideshow": {
     "slide_type": "slide"
    }
   },
   "source": [
    "### Summary Output Description\n",
    "\n",
    ">- **`VARIABLE`**: The name of the estimated parameter.          \n",
    "<br>\n",
    "- **`ESTIMATE`**: The parameter estimate/model coefficient resulting from the running of IRLS.              \n",
    "<br>\n",
    "- **`STDERROR`**: The uncertainty in the parameter estimate.     \n",
    "<br>\n",
    "- **`Z-VALUE`**: Represents the ratio of `ESTIMATE / STDERROR`.     \n",
    "<br>\n",
    "- **`P(>|z|)`**: Probability of observing the outcome if the coefficient was not significantly different from 0.   \n",
    "<br>\n"
   ]
  },
  {
   "cell_type": "code",
   "execution_count": 2,
   "metadata": {
    "slideshow": {
     "slide_type": "fragment"
    }
   },
   "outputs": [
    {
     "data": {
      "text/html": [
       "<div>\n",
       "<style scoped>\n",
       "    .dataframe tbody tr th:only-of-type {\n",
       "        vertical-align: middle;\n",
       "    }\n",
       "\n",
       "    .dataframe tbody tr th {\n",
       "        vertical-align: top;\n",
       "    }\n",
       "\n",
       "    .dataframe thead th {\n",
       "        text-align: right;\n",
       "    }\n",
       "</style>\n",
       "<table border=\"1\" class=\"dataframe\">\n",
       "  <thead>\n",
       "    <tr style=\"text-align: right;\">\n",
       "      <th></th>\n",
       "      <th>VARIABLE</th>\n",
       "      <th>ESTIMATE</th>\n",
       "      <th>STDERROR</th>\n",
       "      <th>Z-VALUE</th>\n",
       "      <th>P(&gt;|z|)</th>\n",
       "    </tr>\n",
       "  </thead>\n",
       "  <tbody>\n",
       "    <tr>\n",
       "      <th>0</th>\n",
       "      <td>INTERCEPT</td>\n",
       "      <td>-4.883229</td>\n",
       "      <td>0.411070</td>\n",
       "      <td>-11.879299</td>\n",
       "      <td>7.581672e-33</td>\n",
       "    </tr>\n",
       "    <tr>\n",
       "      <th>1</th>\n",
       "      <td>AGE_CATEGORY_&gt;80_&amp;_&lt;=85</td>\n",
       "      <td>2.478871</td>\n",
       "      <td>0.424202</td>\n",
       "      <td>5.843607</td>\n",
       "      <td>1.000000e+00</td>\n",
       "    </tr>\n",
       "    <tr>\n",
       "      <th>2</th>\n",
       "      <td>AGE_CATEGORY_&gt;75_&amp;_&lt;=80</td>\n",
       "      <td>2.127327</td>\n",
       "      <td>0.430722</td>\n",
       "      <td>4.938980</td>\n",
       "      <td>9.999996e-01</td>\n",
       "    </tr>\n",
       "    <tr>\n",
       "      <th>3</th>\n",
       "      <td>AGE_CATEGORY_&gt;85</td>\n",
       "      <td>2.774092</td>\n",
       "      <td>0.421329</td>\n",
       "      <td>6.584151</td>\n",
       "      <td>1.000000e+00</td>\n",
       "    </tr>\n",
       "    <tr>\n",
       "      <th>4</th>\n",
       "      <td>AGE_CATEGORY_&gt;70_&amp;_&lt;=75</td>\n",
       "      <td>1.652200</td>\n",
       "      <td>0.456434</td>\n",
       "      <td>3.619801</td>\n",
       "      <td>9.998526e-01</td>\n",
       "    </tr>\n",
       "    <tr>\n",
       "      <th>5</th>\n",
       "      <td>GENDER_MALE</td>\n",
       "      <td>0.179399</td>\n",
       "      <td>0.131091</td>\n",
       "      <td>1.368506</td>\n",
       "      <td>9.144231e-01</td>\n",
       "    </tr>\n",
       "  </tbody>\n",
       "</table>\n",
       "</div>"
      ],
      "text/plain": [
       "                  VARIABLE  ESTIMATE  STDERROR    Z-VALUE       P(>|z|)\n",
       "0                INTERCEPT -4.883229  0.411070 -11.879299  7.581672e-33\n",
       "1  AGE_CATEGORY_>80_&_<=85  2.478871  0.424202   5.843607  1.000000e+00\n",
       "2  AGE_CATEGORY_>75_&_<=80  2.127327  0.430722   4.938980  9.999996e-01\n",
       "3         AGE_CATEGORY_>85  2.774092  0.421329   6.584151  1.000000e+00\n",
       "4  AGE_CATEGORY_>70_&_<=75  1.652200  0.456434   3.619801  9.998526e-01\n",
       "5              GENDER_MALE  0.179399  0.131091   1.368506  9.144231e-01"
      ]
     },
     "execution_count": 2,
     "metadata": {},
     "output_type": "execute_result"
    }
   ],
   "source": [
    "##### Model Coefficients and Standard Errors ######\n",
    "custom_coeffs = coeffs[-1].ravel()\n",
    "custom_params = pd.DataFrame({\n",
    "    \"VARIABLE\":[\"INTERCEPT\"] + Xinit.columns.tolist(),\n",
    "    \"ESTIMATE\":coeffs[-1].T.ravel(),\n",
    "    \"STDERROR\":np.sqrt(np.diagonal(vcov)),\n",
    "    \"Z-VALUE\" :(coeffs[-1].T.ravel() / np.sqrt(np.diagonal(vcov))),\n",
    "    \"P(>|z|)\" :stats.norm.cdf((coeffs[-1].T.ravel() / np.sqrt(np.diagonal(vcov))))\n",
    "    })\n",
    "custom_params"
   ]
  },
  {
   "cell_type": "markdown",
   "metadata": {
    "slideshow": {
     "slide_type": "slide"
    }
   },
   "source": [
    "### Visualizing Model Estimates\n",
    "<br>\n",
    "\n",
    ">Iterative Reweighted Least Squares always returns parameter estimates that correspond to the maximized log-likelihood for the given collection of explanatory variables. Each new estimate should show the log-likelihood increasing and a corresponding decrease in deviance:\n"
   ]
  },
  {
   "cell_type": "code",
   "execution_count": 3,
   "metadata": {
    "slideshow": {
     "slide_type": "fragment"
    }
   },
   "outputs": [
    {
     "data": {
      "image/png": "[encoded data removed]",
      "text/plain": [
       "<Figure size 720x504 with 1 Axes>"
      ]
     },
     "metadata": {
      "needs_background": "light"
     },
     "output_type": "display_data"
    }
   ],
   "source": [
    "##### Plot log-likelihood as a function of Fisher Scoring iteration #####\n",
    "x0, y0 = zip(*enumerate(loglik))\n",
    "\n",
    "plt.figure(figsize=(10, 7))\n",
    "plt.scatter(x0, y0, marker=\"o\", edgecolor=\"#000000\", s=50, color=\"#FFFFFF\")\n",
    "plt.title(\"Log-likelihood as a Function of Scoring Iteration\", color=\"#000000\", loc=\"left\")\n",
    "plt.plot(x0, y0, color=\"#FF0000\", linewidth=1.5)\n",
    "plt.xlabel(\"Fisher Scoring Iteration\")\n",
    "plt.ylabel(\"Log-likelihood\")\n",
    "plt.grid(True)\n",
    "plt.show()"
   ]
  },
  {
   "cell_type": "code",
   "execution_count": 4,
   "metadata": {
    "slideshow": {
     "slide_type": "fragment"
    }
   },
   "outputs": [
    {
     "data": {
      "image/png": "[encoded data removed]",
      "text/plain": [
       "<Figure size 720x504 with 1 Axes>"
      ]
     },
     "metadata": {
      "needs_background": "light"
     },
     "output_type": "display_data"
    }
   ],
   "source": [
    "##### Plot Deviance as a function of Fisher Scoring Iteration #####\n",
    "x1, y1 = zip(*enumerate(devlst))\n",
    "plt.figure(figsize=(10, 7))\n",
    "plt.scatter(x1, y1, marker=\"o\", edgecolor=\"#000000\", s=50, color=\"#FFFFFF\")\n",
    "plt.title(\"Poisson Deviance as a Function of Scoring Iteration\", color=\"#000000\", loc=\"left\")\n",
    "plt.plot(x1, y1, color=\"#FF0000\", linewidth=1.5)\n",
    "plt.xlabel(\"Fisher Scoring Iteration\")\n",
    "plt.ylabel(\"Deviance\")\n",
    "plt.grid(True)\n",
    "plt.show()"
   ]
  },
  {
   "cell_type": "markdown",
   "metadata": {
    "slideshow": {
     "slide_type": "slide"
    }
   },
   "source": [
    "### Custom Implementation vs. Statsmodels\n",
    "\n",
    "\n",
    ">**statsmodels** is the canonical Python library for fitting GLMs. We'vwe demonstrated the parameter estimates for our custom implementation, but how do the estimates compare with statsmodels using the same data?\n"
   ]
  },
  {
   "cell_type": "code",
   "execution_count": 5,
   "metadata": {
    "slideshow": {
     "slide_type": "fragment"
    }
   },
   "outputs": [
    {
     "data": {
      "text/plain": [
       "Intercept                       -4.883229\n",
       "C(GENDER)[T.Male]                0.179399\n",
       "C(AGE_CATEGORY)[T.>70_&_<=75]    1.652200\n",
       "C(AGE_CATEGORY)[T.>75_&_<=80]    2.127327\n",
       "C(AGE_CATEGORY)[T.>80_&_<=85]    2.478871\n",
       "C(AGE_CATEGORY)[T.>85]           2.774092\n",
       "dtype: float64"
      ]
     },
     "execution_count": 5,
     "metadata": {},
     "output_type": "execute_result"
    }
   ],
   "source": [
    "##### Statsmodels Poisson GLM fit #####\n",
    "\n",
    "keep_fields  = [\"GENDER\", \"AGE_CATEGORY\", \"INCIDENCE_MNTH\", \"EXPOSURE\"]\n",
    "dfmodel      = dforiginal[keep_fields]\n",
    "dfgrpd2      = dfmodel.groupby([\"GENDER\", \"AGE_CATEGORY\"], as_index=False).sum()\n",
    "formula_expr = \"INCIDENCE_MNTH ~ C(GENDER) + C(AGE_CATEGORY)\"\n",
    "\n",
    "poisson_mdl  = smf.glm(\n",
    "    formula=formula_expr, data=dfgrpd2, \n",
    "    family=sm.families.Poisson(link=sm.families.links.log),\n",
    "    exposure=dfgrpd2[\"EXPOSURE\"]\n",
    "    ).fit()\n",
    "\n",
    "\n",
    "# Bind reference to estimated model coefficients.\n",
    "params = poisson_mdl.params\n",
    "poisson_mdl.summary()\n",
    "params"
   ]
  },
  {
   "cell_type": "code",
   "execution_count": 6,
   "metadata": {
    "scrolled": true,
    "slideshow": {
     "slide_type": "slide"
    }
   },
   "outputs": [
    {
     "name": "stdout",
     "output_type": "stream",
     "text": [
      "Statsmodels output:\n",
      "\n",
      "Intercept                       -4.883229\n",
      "C(GENDER)[T.Male]                0.179399\n",
      "C(AGE_CATEGORY)[T.>70_&_<=75]    1.652200\n",
      "C(AGE_CATEGORY)[T.>75_&_<=80]    2.127327\n",
      "C(AGE_CATEGORY)[T.>80_&_<=85]    2.478871\n",
      "C(AGE_CATEGORY)[T.>85]           2.774092\n",
      "dtype: float64\n",
      "\n",
      "JDT output:\n",
      "\n",
      "                  VARIABLE  ESTIMATE\n",
      "0                INTERCEPT -4.883229\n",
      "1  AGE_CATEGORY_>80_&_<=85  2.478871\n",
      "2  AGE_CATEGORY_>75_&_<=80  2.127327\n",
      "3         AGE_CATEGORY_>85  2.774092\n",
      "4  AGE_CATEGORY_>70_&_<=75  1.652200\n",
      "5              GENDER_MALE  0.179399\n"
     ]
    }
   ],
   "source": [
    "##### Print statsmodels parameter estimates #####\n",
    "print(\"Statsmodels output:\\n\")\n",
    "print(poisson_mdl.params)\n",
    "print(\"\")\n",
    "print(\"JDT output:\\n\")\n",
    "print(custom_params[[\"VARIABLE\",\"ESTIMATE\"]])\n"
   ]
  }
 ],
 "metadata": {
  "celltoolbar": "Slideshow",
  "kernelspec": {
   "display_name": "Python 3",
   "language": "python",
   "name": "python3"
  },
  "language_info": {
   "codemirror_mode": {
    "name": "ipython",
    "version": 3
   },
   "file_extension": ".py",
   "mimetype": "text/x-python",
   "name": "python",
   "nbconvert_exporter": "python",
   "pygments_lexer": "ipython3",
   "version": "3.7.3"
  }
 },
 "nbformat": 4,
 "nbformat_minor": 2
}
