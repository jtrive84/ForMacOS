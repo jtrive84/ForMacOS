{
 "cells": [
  {
   "cell_type": "markdown",
   "metadata": {
    "slideshow": {
     "slide_type": "slide"
    }
   },
   "source": [
    "# SQL Introduction\n",
    "<hr style=\"border:.5px solid gray\"> </hr>\n",
    "\n",
    "\n",
    "<center><img src=\"www/logo3.png\"></center> \n",
    "\n",
    "\n",
    "\n",
    "**Author: James Triveri**    \n",
    "**Date: 2021-05-19**    \n",
    "<br>     \n",
    "\n",
    "\n"
   ]
  },
  {
   "cell_type": "markdown",
   "metadata": {
    "slideshow": {
     "slide_type": "slide"
    }
   },
   "source": [
    "# Topics:\n",
    "<hr style=\"border:.75px solid gray\"> </hr>\n",
    "\n",
    "1. **Overview of SQL**   \n",
    "<br> \n",
    "2. **Why SQL is important**     \n",
    "<br>  \n",
    "3. **Common operations, expressions and queries**   \n",
    "<br>  \n",
    "4. **Introduction to JOINs**  \n",
    "<br> \n",
    "    i. **Leading causes of failed JOIN operations and robustness measures**   \n",
    "<br> \n",
    "5. **Challenging *That's how we've always done it...* and avoidance of anti-patterns**   \n",
    "<br> \n",
    "6. **How can I get started?**        \n",
    "<br>     \n",
    "\n",
    "\n",
    "\n",
    "\n"
   ]
  },
  {
   "cell_type": "markdown",
   "metadata": {
    "slideshow": {
     "slide_type": "slide"
    }
   },
   "source": [
    "# Overview\n",
    "<hr style=\"border:.75px solid gray\"> </hr>\n",
    "\n",
    "- SQL (Structured Query Language) is a declarative programming language designed for managing structured data \n",
    "within a relational database management system (RDBMS).   \n",
    "<br> \n",
    "- ***Declarative*** means you tell the optimizer what you want to achieve, rather than how to achieve it.     \n",
    "<br> \n",
    "- Comparison of imperative and declarative code excerpts:  \n"
   ]
  },
  {
   "cell_type": "markdown",
   "metadata": {
    "slideshow": {
     "slide_type": "subslide"
    }
   },
   "source": [
    "# Code Comparison\n",
    "<hr style=\"border:.75px solid gray\"> </hr>\n",
    "\n",
    "**Imperative excerpt:**\n",
    "```python\n",
    "# Typical iteration scheme in Python.\n",
    "input_vals = [3, 5, 7, 11, 13, 17, 19, 23, 29, 31,]\n",
    "output_vals = []\n",
    "\n",
    "for ii in input_vals:\n",
    "    output_vals.append(ii + 3)\n",
    "```\n",
    "\n",
    "<br>\n",
    "\n",
    "**Declarative excerpt:**\n",
    "\n",
    "```sqlite\n",
    "-- Typical SQL JOIN operation.\n",
    "SELECT \n",
    "    TBL_A.POLICYID, TBL_B.PAID_LOSS\n",
    "FROM TBL_A LEFT JOIN TBL_B \n",
    "    ON TBL_A.POLICYID = TBL_B.POLICYID;\n",
    "```\n",
    "\n",
    "    "
   ]
  },
  {
   "cell_type": "markdown",
   "metadata": {
    "slideshow": {
     "slide_type": "slide"
    }
   },
   "source": [
    "# Overview\n",
    "<hr style=\"border:.75px solid gray\"> </hr>\n",
    "\n",
    "* Popular RDBMS include:  \n",
    "<br>  \n",
    "    - Oracle (on-premises database market share ~45%)\n",
    "    - MySQL\n",
    "    - **SQL Server** (on-premises database market share ~25%)\n",
    "    - PostgreSQL\n",
    "    - IBM DB2 (on-premises database market share ~15%)\n",
    "    - SQLite\n",
    "    - Amazon RedShift (AWS data warehouse)\n",
    "    - Google Big Query (GCP data warehouse)\n",
    "\n",
    "    \n",
    "* Although RDBMSs offer proprietary extensions, ANSI-compliant SQL is a subset supported by all vendors, which requires \n",
    "executing the following  commands in the same way:       \n",
    "<br> \n",
    "    - **UPDATE, DELETE, SELECT, INSERT, WHERE**   \n",
    "  \n",
    "\n",
    "* At GuideOne, SQL Server is the only analyst facing RDBMS, so cross-platform compatibility isn't a major concern. \n",
    "\n"
   ]
  },
  {
   "cell_type": "markdown",
   "metadata": {
    "slideshow": {
     "slide_type": "slide"
    }
   },
   "source": [
    "# Why bother learning SQL?\n",
    "<hr style=\"border:.75px solid gray\"> </hr>\n",
    "\n",
    "\n",
    "- In a CNBC article titled ***5 skills that will lead to a high-paying in-demand job***, \n",
    "SQL was ranked 4th, ahead of Java (no. 5), and immediately following bilingualism (no. 3):   \n",
    "<br>   \n",
    "    * https://www.cnbc.com/2017/04/26/5-skills-that-will-lead-to-a-high-paying-in-demand-job.html  \n",
    "<br> \n",
    "- Every popular programming language exposes a database API/interface. Whether working from Python, R or C++, \n",
    "properly written SQL can be executed from any client-side application without modification (more on \n",
    "\"properly written\" later).       \n",
    "<br>\n",
    "- Knowledge/familiarity of/with SQL is quickly surpassing Excel as the baseline core competency \n",
    "for technically-oriented roles:     \n",
    "<br> \n",
    "    - Scalability \n",
    "    - SQL-related questions asked more frequently in technical interviews.   \n",
    "<br>  \n",
    "- Instills tenets of computational thinking (logic, assessment, patterns, automation, and generalisation).\n"
   ]
  },
  {
   "cell_type": "markdown",
   "metadata": {
    "slideshow": {
     "slide_type": "slide"
    }
   },
   "source": [
    "# How much SQL do I need to learn?\n",
    "<hr style=\"border:.75px solid gray\"> </hr>\n",
    "\n",
    "- Typically only a small subset of SQL commands are required for non-admin (e.g. analyst) work.  \n",
    "<br> \n",
    "- *I know enough SQL to get what I need into R...* - **A. Niebrugge**     \n",
    "<br>\n",
    "- Even a little knowledge of SQL and data organization best practices can have a positive\n",
    "influence on all aspects of the analytics pipeline.    \n",
    "<br>   \n",
    "- There is no compression algorithm for experience: Consistently use it, and practice, practice, practice!\n",
    "<br>\n"
   ]
  },
  {
   "cell_type": "markdown",
   "metadata": {
    "slideshow": {
     "slide_type": "slide"
    }
   },
   "source": [
    "# Data Used for Examples and Exercises\n",
    "<hr style=\"border:.75px solid gray\"> </hr>\n",
    "\n",
    "* The queries used to demonstrate concepts target the *French Motor Third-Part Liability* \n",
    "database, a popular publicly available dataset used within the Actuarial modeling community.  \n",
    "<br>\n",
    "* Consists of risk features for motor third-part liability policies observed mostly on one year.\n",
    "Data is partitioned into three tables (available in User_ActuarialPilot):  \n",
    "<br> \n",
    "    - **SAMPLE_FREQUENCY** (413,169 rows): Contains the number of claims, exposures and additional \n",
    "    risk characteristics associated with each policy.  \n",
    "    <br>   \n",
    "    - **SAMPLE_SEVERITY** (16,180 rows): Contains policy identifier and paid loss amounts. policy id may\n",
    "    be repeated for policies with multiple claims.   \n",
    "    <br>\n",
    "    - **SAMPLE_POPULATION** (10 rows): Mapping of French geographic region (roughly akin to a state) to \n",
    "    population and average latitude/longitude.  \n"
   ]
  },
  {
   "cell_type": "markdown",
   "metadata": {
    "slideshow": {
     "slide_type": "slide"
    }
   },
   "source": [
    "# SQL Order of Operations\n",
    "<hr style=\"border:.75px solid gray\"> </hr>\n",
    "\n",
    "Conventional SQL queries consist of a few common elements:\n",
    "\n",
    "- **`SELECT`**: Specifies the columns to retrieve, along with any aliases. `*` is a wildcard, \n",
    "which returns all columns from the target table.         \n",
    "<br>    \n",
    "- **`FROM`**: Specifies the table from which the columns are to be retrieved.    \n",
    "<br> \n",
    "- **`WHERE`**: One or more conditions used to filter the result set.    \n",
    "<br>   \n",
    "- **`GROUP BY`**: Frequently used in conjunction with aggregate operations \n",
    "(`SUM`, `MIN`, `MAX`, `AVG`, etc.). Represents the keys over which aggregates are to be computed.    \n",
    "<br>    \n",
    "- **`ORDER BY`**: How the result set should be sorted. `ORDER BY` is followed by a comma delimited\n",
    "list of fieldnames along with `ASC/DESC` for ascending/descending. \n"
   ]
  },
  {
   "cell_type": "markdown",
   "metadata": {
    "slideshow": {
     "slide_type": "subslide"
    }
   },
   "source": [
    "# Sample Query \\#1\n",
    "<hr style=\"border:.75px solid gray\"> </hr>\n",
    "\n",
    "Retrieve records from SAMPLE_FREQUENCY for policies with diesel engines having at least one claim. \n",
    "Reverse sort results by policy id:\n",
    "\n",
    "<br>\n",
    "\n",
    "\n",
    "```sqlite\n",
    "SELECT * FROM SAMPLE_FREQUENCY\n",
    "WHERE GAS = 'Diesel' AND NBR_CLAIMS > 1\n",
    "ORDER BY POLICYID DESC;\n",
    "```\n",
    "\n",
    "<br>\n",
    "\n",
    "- Execution in SSMS (sample query \\#1)     \n",
    "\n",
    "\n"
   ]
  },
  {
   "cell_type": "markdown",
   "metadata": {
    "slideshow": {
     "slide_type": "slide"
    }
   },
   "source": [
    "# SQL Order of Operations \n",
    "<hr style=\"border:.75px solid gray\"> </hr>\n",
    "\n",
    "Queries are executed in an order different than how they are written:  \n",
    "<br>  \n",
    "\n",
    "\n",
    "<center><img width=\"662\" height=\"334\" src=\"www/operations.png\"></center> \n",
    "\n",
    "\n"
   ]
  },
  {
   "cell_type": "markdown",
   "metadata": {
    "slideshow": {
     "slide_type": "slide"
    }
   },
   "source": [
    "# Aggregate Operations \n",
    "<hr style=\"border:.75px solid gray\"> </hr>\n",
    "\n",
    "- **`GROUP BY`** enables the execution of aggregate operations over a specified set of one or more \n",
    "keys. Usually used in conjunction with aggregate functions:   \n",
    "<br>   \n",
    "    * **`AVG`**\n",
    "    * **`COUNT`**\n",
    "    * **`MAX`**\n",
    "    * **`MIN`**\n",
    "    * **`STDEV`**\n",
    "    * **`STDEVP`**\n",
    "    * **`SUM`**\n",
    "    * **`VAR`**\n",
    "    * **`VARP`**\n",
    "    "
   ]
  },
  {
   "cell_type": "markdown",
   "metadata": {
    "slideshow": {
     "slide_type": "subslide"
    }
   },
   "source": [
    "# Sample Query \\#2\n",
    "<hr style=\"border:.75px solid gray\"> </hr>\n",
    "\n",
    "Compute the total number of claims, total number of exposures and average driver age by region\n",
    "for cars strictly less than 5 years old. Sort results by region:    \n",
    "\n",
    "\n",
    "```sqlite\n",
    "SELECT\n",
    "    REGION, \n",
    "    SUM(NBR_CLAIMS) NBR_CLAIMS, \n",
    "    SUM(EXPOSURE) EXPOSURE, \n",
    "    AVG(DRIVERAGE) DRIVERAGE\n",
    "FROM SAMPLE_FREQUENCY WHERE CARAGE < 5\n",
    "GROUP BY REGION \n",
    "    ORDER BY REGION ASC;\n",
    "```\n",
    "\n",
    "<br>\n",
    "\n",
    "- Execution in SSMS (sample query \\#2)      \n",
    "\n",
    "\n"
   ]
  },
  {
   "cell_type": "markdown",
   "metadata": {
    "slideshow": {
     "slide_type": "slide"
    }
   },
   "source": [
    "# SQL JOINs \n",
    "<hr style=\"border:.75px solid gray\"> </hr>\n",
    "\n",
    "- JOINs are used to combine rows from two or more tables, based on one or more related columns \n",
    "between tables. Common JOINs include:  \n",
    "<br> \n",
    "    * **`INNER JOIN`**\n",
    "    * **`OUTER JOIN`**\n",
    "    * **`FULL OUTER JOIN`**    \n",
    "<br>    \n",
    "- Refer to *SQL_JOINs_Reference.pdf* for additional information.   \n",
    "<br>   \n",
    "- Each JOIN will be presented from a set theoretic, a tabular and a SQL perspective.    \n",
    "<br> \n",
    "- The examples that follow use only a single key for ease of demonstration, but JOINs between \n",
    "tables can be performed over any number of common columns, limited only by the number of columns\n",
    "in the smaller of the two tables.   \n"
   ]
  },
  {
   "cell_type": "markdown",
   "metadata": {
    "slideshow": {
     "slide_type": "slide"
    }
   },
   "source": [
    "# INNER JOIN: Set Theoretic Perspective\n",
    "<hr style=\"border:.75px solid gray\"> </hr>\n",
    "\n",
    "An `INNER JOIN` is analogous to the intersection of two sets A and B:    \n",
    "<br>\n",
    "<center><img width=\"416\" height=\"279\" src=\"www/inner0.png\"></center>\n",
    "\n"
   ]
  },
  {
   "cell_type": "markdown",
   "metadata": {
    "slideshow": {
     "slide_type": "slide"
    }
   },
   "source": [
    "# INNER JOIN: Tabular Perspective\n",
    "<hr style=\"border:.75px solid gray\"> </hr>\n",
    "\n",
    "Only those records with key values in both tables will be retained:  \n",
    "<br>  \n",
    "\n",
    "<center><img src=\"www/inner1.png\"></center>\n",
    "\n"
   ]
  },
  {
   "cell_type": "markdown",
   "metadata": {
    "slideshow": {
     "slide_type": "subslide"
    }
   },
   "source": [
    "# INNER JOIN: SQL Perspective  \n",
    "<hr style=\"border:.75px solid gray\"> </hr>\n",
    "\n",
    "\n",
    "```sqlite\n",
    "SELECT\n",
    "    A.POLICYID,\n",
    "    A.REGION, \n",
    "    B.POP\n",
    "FROM A INNER JOIN B \n",
    "    ON A.REGION = B.REGION\n",
    "```\n",
    "<br>  \n",
    "\n",
    "\n",
    "- Execution in SSMS (sample query \\#3)   \n",
    "<br>\n",
    "- It isn't required to prefix column names with their table of origin if\n",
    "the column is defined in only one of the tables (like POLICYID or POP), \n",
    "but being explicit can improve readability, especially as queries grow \n",
    "in complexity. \n",
    "\n",
    "\n"
   ]
  },
  {
   "cell_type": "markdown",
   "metadata": {
    "slideshow": {
     "slide_type": "slide"
    }
   },
   "source": [
    "# OUTER JOIN: Set Theoretic Perspective\n",
    "<hr style=\"border:.75px solid gray\"> </hr>\n",
    "\n",
    "An `OUTER JOIN` produces a complete set of records from Table A, with matching records \n",
    "(where available) in Table B. If there is no match, the right side (Table A values) will \n",
    "contain null:   \n",
    "<br>\n",
    "<center><img src=\"www/outer0.png\"></center>\n",
    "\n"
   ]
  },
  {
   "cell_type": "markdown",
   "metadata": {
    "slideshow": {
     "slide_type": "slide"
    }
   },
   "source": [
    "# OUTER JOIN: Tabular Perspective\n",
    "<hr style=\"border:.75px solid gray\"> </hr>\n",
    "\n",
    "All records from Table A are retained. Key column matches from A will be populated, missing\n",
    "values will be null:   \n",
    "<br>\n",
    "\n",
    "<center><img src=\"www/outer1.png\"></center>\n",
    "\n"
   ]
  },
  {
   "cell_type": "markdown",
   "metadata": {
    "slideshow": {
     "slide_type": "subslide"
    }
   },
   "source": [
    "# OUTER JOIN: SQL Perspective\n",
    "<hr style=\"border:.75px solid gray\"> </hr>\n",
    "\n",
    "\n",
    "```sqlite\n",
    "SELECT\n",
    "    A.POLICYID,\n",
    "    A.REGION, \n",
    "    B.POP\n",
    "FROM A LEFT OUTER JOIN B \n",
    "    ON A.REGION = B.REGION\n",
    "```\n",
    "<br> \n",
    "- Execution in SSMS (sample query \\#4)       \n",
    "<br> \n",
    "- `LEFT OUTER JOIN` is identical to `LEFT JOIN` (i.e., `OUTER` is frequently omitted).       \n",
    "<br>\n",
    "- The SQL Standard considers the first named table to be the left table, \n",
    "and the second named table to be the right table. In the query above, **A** is the left table\n",
    "and **B** the right table.   \n",
    "<br>\n",
    "- If you want all the rows from the first table and any matching rows from the second table, \n",
    "use `LEFT JOIN / LEFT OUTER JOIN`. If you want all rows from the second table and any matching rows from \n",
    "the first table, use `RIGHT JOIN / RIGHT OUTER JOIN`.\n"
   ]
  },
  {
   "cell_type": "markdown",
   "metadata": {
    "slideshow": {
     "slide_type": "slide"
    }
   },
   "source": [
    "# OUTER JOIN: Misc.\n",
    "<hr style=\"border:.75px solid gray\"> </hr>\n",
    "\n",
    "- In Microsoft Excel, **VLOOKUP** is functionally equivalent to an outer join in SQL:     \n",
    "<br>   \n",
    "\n",
    "<center><img width=\"675\" height=\"27\" src=\"www/outer2.png\"></center>\n",
    "\n",
    "<br>\n",
    "\n",
    "- ***lookup_value***: The key to lookup in the target table.   \n",
    "<br>\n",
    "- ***table_array***: The \"right\" table.   \n",
    "<br>\n",
    "- ***col_index_num***: Index offset of target column relative to key column.      \n",
    "<br>\n",
    "- ***range_lookup***: FALSE to specify exact key match, TRUE for partial key match.   \n",
    "\n",
    "\n"
   ]
  },
  {
   "cell_type": "markdown",
   "metadata": {
    "slideshow": {
     "slide_type": "slide"
    }
   },
   "source": [
    "# FULL OUTER JOIN: Set Theoretic Perspective\n",
    "<hr style=\"border:.75px solid gray\"> </hr>\n",
    "\n",
    "A `FULL OUTER JOIN` includes all rows from both tables. When no matching\n",
    "values exist for rows in the left table, you'll see null values from the\n",
    "result set on the right. When no matching values exist for rows on the\n",
    "right table, you'll see null values from the result set on the left.\n",
    "<br>\n",
    "\n",
    "<center><img width=\"415\" height=\"280\" src=\"www/fouter0.png\"></center>\n",
    "\n",
    "\n"
   ]
  },
  {
   "cell_type": "markdown",
   "metadata": {
    "slideshow": {
     "slide_type": "slide"
    }
   },
   "source": [
    "# FULL OUTER JOIN: Tabular Perspective\n",
    "<hr style=\"border:.75px solid gray\"> </hr>\n",
    "\n",
    "<br>   \n",
    "\n",
    "<center><img width=\"645\" height=\"197\" src=\"www/fouter1.png\"></center>\n",
    "\n"
   ]
  },
  {
   "cell_type": "markdown",
   "metadata": {
    "slideshow": {
     "slide_type": "subslide"
    }
   },
   "source": [
    "# FULL OUTER JOIN: SQL Perspective\n",
    "<hr style=\"border:.75px solid gray\"> </hr>\n",
    "\n",
    "```sqlite\n",
    "SELECT \n",
    "\tA.POLICYID, \n",
    "\tA.NBR_CLAIMS, \n",
    "\tB.PAID_LOSS\n",
    "FROM A FULL OUTER JOIN B\n",
    "    ON A.POLICYID = B.POLICYID\n",
    "```\n",
    "<br>  \n",
    "- Execution in SSMS (sample query \\#5)       \n",
    "<br> \n",
    "- `FULL OUTER JOIN` should be used with caution: Note that it is no longer possible to aggregate \n",
    "NBR_CLAIMS (or PAID_LOSS) in the result set to obtain an accurate claim count, since NBR_CLAIMS \n",
    "from table A is replicated for each key column match in table B. \n",
    "\n",
    "<br>\n",
    "\n",
    "\n"
   ]
  },
  {
   "cell_type": "markdown",
   "metadata": {
    "slideshow": {
     "slide_type": "slide"
    }
   },
   "source": [
    "# Leading causes of failed JOINs\n",
    "<hr style=\"border:.75px solid gray\"> </hr>\n",
    "\n",
    "- Failure of JOINs can be attributed to a number of factors. A few things to check:    \n",
    "<br>  \n",
    "    * If merging on a character column, did you trim whitespace (e.g., `LTRIM(RTRIM(<column_name>))`)?  \n",
    "    <br> \n",
    "    * If merging on policy or claim numbers, ensure values are left-0-padded to the correct number of \n",
    "      digits (`21107` with not match `000021107`). Policy numbers should be 9 characters wide, \n",
    "      claim numbers 8 characters wide. This can be accomplished using:\n",
    "      \n",
    "          RIGHT('000000000' + POLICYNO, 9) POLICYNO\n",
    "          RIGHT('00000000' + CLAIMNO, 8) CLAIMNO\n",
    "           "
   ]
  },
  {
   "cell_type": "markdown",
   "metadata": {
    "slideshow": {
     "slide_type": "slide"
    }
   },
   "source": [
    "# Challenging *That's how we've always done it...*\n",
    "<hr style=\"border:.75px solid gray\"> </hr>\n",
    "\n",
    "\n",
    "- Four generations of cooks  \n",
    "<br>   \n",
    "- Proliferation of temp table usage in GuideOne queries     \n",
    "<br>   \n",
    "- Query used to compile historical policycenter exposures creates **77** temporary tables!?! \n",
    "This is undesirable for a number of reasons:  \n",
    "\n",
    "     **i.** Logic to compile data not encapsulated in a single executable statement.    \n",
    "     **ii.** Query is not portable / cannot be passed to client-side applications for direct execution.     \n",
    "     **iii.** Temp tables are ephemeral, which makes debugging more difficult.      \n",
    "<br>   \n",
    "- *Temporary tables are fine for exploratory data analysis, but to the extent possible \n",
    "should not be used in queries intended for production or shared with others*.\n",
    "\n"
   ]
  },
  {
   "cell_type": "markdown",
   "metadata": {
    "slideshow": {
     "slide_type": "slide"
    }
   },
   "source": [
    "# Organizing Complex Queries with SubQuery Factoring\n",
    "<hr style=\"border:.75px solid gray\"> </hr>\n",
    "\n",
    "- Queries that rely on temporary tables can be converted into a single executable SQL statement using *subquery factoring*.   \n",
    "<br>   \n",
    "- As opposed to creating temporary tables, define each intermediate table at the\n",
    "start of the query immediately following a `WITH` clause. Each subquery is assigned an alias,\n",
    "which can then be referenced in the body of the main query.    \n",
    "<br>   \n",
    "- Example transforming a temp table query using subquery factoring in SSMS    \n",
    "\n"
   ]
  },
  {
   "cell_type": "markdown",
   "metadata": {
    "slideshow": {
     "slide_type": "slide"
    }
   },
   "source": [
    "# How can I get started?\n",
    "<hr style=\"border:.75px solid gray\"> </hr>\n",
    "\n",
    "1. Perform an inventory of the data acquisition routines that you are responsible for,\n",
    "then answer the following:\n",
    "\n",
    "    i. ***Does another individual provide the data for you?***     \n",
    "    If yes, request that they share the SQL used to compile the dataset. Become \n",
    "    familiar with the most commonly used tables and fields, and how elements of each of \n",
    "    the databases are accessed.\n",
    "\n",
    "    ii. ***Is the data acquisition routine already implemented in SQL?***     \n",
    "    If yes, use subquery refactoring to replace instances of temporary table creation. \n",
    "    Ensure the transaction can be dispatched in a single executable statement. This \n",
    "    ensures portability across applications.   \n",
    "<br>     \n",
    "3. Learn how the organization manages data.    \n",
    "<br>  \n",
    "2. Be enthusiastic about the prospect of leveling-up your technical competency, and developing\n",
    "a set of skills that will be highly in-demand for the rest of your career.      \n",
    "<br>  \n",
    "4. Again, there is no compression algorithm for experience: Try to use it a little bit every day.   \n",
    "<br>   \n",
    "5. Work through SQL Exercises.   \n",
    "<br>  \n"
   ]
  }
 ],
 "metadata": {
  "celltoolbar": "Slideshow",
  "kernelspec": {
   "display_name": "Python 3",
   "language": "python",
   "name": "python3"
  },
  "language_info": {
   "codemirror_mode": {
    "name": "ipython",
    "version": 3
   },
   "file_extension": ".py",
   "mimetype": "text/x-python",
   "name": "python",
   "nbconvert_exporter": "python",
   "pygments_lexer": "ipython3",
   "version": "3.7.4"
  },
  "latex_envs": {
   "LaTeX_envs_menu_present": true,
   "autoclose": false,
   "autocomplete": true,
   "bibliofile": "biblio.bib",
   "cite_by": "apalike",
   "current_citInitial": 1,
   "eqLabelWithNumbers": true,
   "eqNumInitial": 1,
   "hotkeys": {
    "equation": "Ctrl-E",
    "itemize": "Ctrl-I"
   },
   "labels_anchors": false,
   "latex_user_defs": false,
   "report_style_numbering": false,
   "user_envs_cfg": false
  },
  "rise": {
   "height": "100%",
   "width": "85%"
  }
 },
 "nbformat": 4,
 "nbformat_minor": 2
}
