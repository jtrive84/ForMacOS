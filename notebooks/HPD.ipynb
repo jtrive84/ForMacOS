{
 "cells": [
  {
   "cell_type": "markdown",
   "metadata": {},
   "source": [
    "- [Scipy Optimize](https://docs.scipy.org/doc/scipy/reference/optimize.html)          \n",
    "- [Gamma Distribution](https://docs.scipy.org/doc/scipy/reference/generated/scipy.stats.gamma.html#scipy.stats.gamma)       \n",
    "- [Scipy Optimize Tutorial](https://docs.scipy.org/doc/scipy/reference/tutorial/optimize.html)        \n",
    "- [Scipy Stats Reference](https://docs.scipy.org/doc/scipy/reference/stats.html)          \n",
    "- [Gamma Distribution Wikipedia](https://en.wikipedia.org/wiki/Gamma_distribution)         \n",
    "- [scipy fsolve](https://docs.scipy.org/doc/scipy/reference/generated/scipy.optimize.fsolve.html)      \n",
    "- [scipy optimize.minimize](https://docs.scipy.org/doc/scipy/reference/generated/scipy.optimize.minimize.html#scipy.optimize.minimize)    \n",
    "- [scipy.optimize.minimize_scalar](https://docs.scipy.org/doc/scipy/reference/generated/scipy.optimize.minimize_scalar.html#scipy.optimize.minimize_scalar)     \n",
    "- [scipy.optimize.fmin](https://docs.scipy.org/doc/scipy/reference/generated/scipy.optimize.fmin.html)     \n",
    "- [scipy.optimize.root](https://docs.scipy.org/doc/scipy/reference/generated/scipy.optimize.root.html#scipy.optimize.root)    \n",
    "- [scipy.optimize.fixed_point](https://docs.scipy.org/doc/scipy/reference/generated/scipy.optimize.fixed_point.html)     \n"
   ]
  },
  {
   "cell_type": "code",
   "execution_count": 115,
   "metadata": {},
   "outputs": [],
   "source": [
    "import numpy as np\n",
    "import pandas as pd\n",
    "from scipy import stats\n",
    "from scipy import special\n",
    "from scipy.optimize import minimize_scalar, fsolve\n",
    "import matplotlib as mpl\n",
    "import matplotlib.pyplot as plt\n",
    "import seaborn\n",
    "import itertools\n",
    "\n",
    "HPD    = .95\n",
    "SHAPE  = 3\n",
    "RATE_  = 1 / 5\n",
    "SCALE_ = None\n",
    "SCALE  = (1 / RATE_) if SCALE_ is None else SCALE_\n",
    "\n",
    "# rvs(a, loc=0, scale=1)\n",
    "\n",
    "\n",
    "def _gamma(alpha, theta):\n",
    "    \"\"\"Gamma distribution closure.\"\"\"\n",
    "    # mode_ = (alpha - 1) * theta\n",
    "    def _pdf(x):\n",
    "        \"\"\"Evaluate pdf at x.\"\"\"\n",
    "        return((np.power(x, alpha - 1) * np.exp(-x / theta)) / (special.gamma(alpha) * np.power(theta, alpha)))\n",
    "    return(_pdf)\n",
    "\n",
    "\n",
    "\n",
    "def _intersect(f1, f2, xinit):\n",
    "    \"\"\"\n",
    "    Find points of intersection for f1 and f2.\n",
    "    \"\"\"\n",
    "    return(fsolve(lambda x: f1(x) - f2(x), xinit))\n"
   ]
  },
  {
   "cell_type": "code",
   "execution_count": 116,
   "metadata": {},
   "outputs": [
    {
     "name": "stdout",
     "output_type": "stream",
     "text": [
      "Distribution mode  : 10.0\n",
      "Distribution median: 13.370301568617794\n",
      "Distribution mean  : 15.0\n"
     ]
    }
   ],
   "source": [
    "pdf_ = _gamma(SHAPE, SCALE)\n",
    "rv = stats.gamma(a=SHAPE, scale=SCALE)\n",
    "print(\"Distribution mode  : {}\".format((SHAPE - 1) * SCALE))\n",
    "print(\"Distribution median: {}\".format(rv.median()))\n",
    "print(\"Distribution mean  : {}\".format(rv.mean()))\n"
   ]
  },
  {
   "cell_type": "code",
   "execution_count": 133,
   "metadata": {},
   "outputs": [
    {
     "name": "stdout",
     "output_type": "stream",
     "text": [
      "[#1]: rv_mid: 0.0270670566 - auc: 0.7418517600\n",
      "[#2]: rv_mid: 0.0135335283 - auc: 0.8905514501\n",
      "[#3]: rv_mid: 0.0067667642 - auc: 0.9502714983\n",
      "[#4]: rv_mid: 0.0101501462 - auc: 0.9215301090\n",
      "[#5]: rv_mid: 0.0084584552 - auc: 0.9361819216\n",
      "[#6]: rv_mid: 0.0076126097 - auc: 0.9432977217\n",
      "[#7]: rv_mid: 0.0071896869 - auc: 0.9468025002\n",
      "[#8]: rv_mid: 0.0069782255 - auc: 0.9485414923\n",
      "[#9]: rv_mid: 0.0068724949 - auc: 0.9494076214\n",
      "[#10]: rv_mid: 0.0068196295 - auc: 0.9498398417\n",
      "[#11]: rv_mid: 0.0067931968 - auc: 0.9500557405\n",
      "[#12]: rv_mid: 0.0068064132 - auc: 0.9499478088\n",
      "[#13]: rv_mid: 0.0067998050 - auc: 0.9500017790\n",
      "[#14]: rv_mid: 0.0068031091 - auc: 0.9499747950\n",
      "[#15]: rv_mid: 0.0068014570 - auc: 0.9499882873\n",
      "[#16]: rv_mid: 0.0068006310 - auc: 0.9499950332\n",
      "[#17]: rv_mid: 0.0068002180 - auc: 0.9499984062\n",
      "[#18]: rv_mid: 0.0068000115 - auc: 0.9500000926\n",
      "[#19]: rv_mid: 0.0068001148 - auc: 0.9499992494\n",
      "[#20]: rv_mid: 0.0068000631 - auc: 0.9499996710\n",
      "[#21]: rv_mid: 0.0068000373 - auc: 0.9499998818\n",
      "[#22]: rv_mid: 0.0068000244 - auc: 0.9499999872\n",
      "[#23]: rv_mid: 0.0068000180 - auc: 0.9500000399\n",
      "[#24]: rv_mid: 0.0068000212 - auc: 0.9500000136\n",
      "[#25]: rv_mid: 0.0068000228 - auc: 0.9500000004\n",
      "[#26]: rv_mid: 0.0068000236 - auc: 0.9499999938\n",
      "[#27]: rv_mid: 0.0068000232 - auc: 0.9499999971\n",
      "[#28]: rv_mid: 0.0068000230 - auc: 0.9499999987\n",
      "[#29]: rv_mid: 0.0068000229 - auc: 0.9499999996\n",
      "[#30]: rv_mid: 0.0068000229 - auc: 0.9500000000\n"
     ]
    }
   ],
   "source": [
    "alpha  = SHAPE\n",
    "theta  = SCALE\n",
    "\n",
    "# Initialize distribution with specified parameters. \n",
    "rv       = stats.gamma(a=alpha, scale=theta)\n",
    "rv_mode  = (alpha - 1) * theta\n",
    "rv_max_i = rv.pdf(rv_mode)\n",
    "rv_max   = rv_max_i\n",
    "rv_min   = 0\n",
    "\n",
    "# Variables targeted for update at each iteration.\n",
    "x0      = [rv.ppf(.05), rv.ppf(.95)]\n",
    "rv_mid  = (rv_max + rv_min) / 2.\n",
    "f1      = _gamma(alpha=alpha, theta=theta)\n",
    "f2      = lambda x: rv_mid\n",
    "roots_  = _intersect(f1=f1, f2=f2, xinit=x0)\n",
    "auc     = rv.cdf(roots_[-1]) - rv.cdf(roots_[0])\n",
    "\n",
    "\n",
    "for i in itertools.count(start=1):\n",
    "    \n",
    "    if i>1000:\n",
    "        print(\"Iteration failed to converge after 1000 cycles - exiting.\")\n",
    "        break\n",
    "    \n",
    "    print(\"[#{}]: rv_mid: {:.10f} - auc: {:.10f}\".format(i, rv_mid, auc))\n",
    "    \n",
    "    if np.abs(auc - HPD) < 1e-10: \n",
    "        break\n",
    "    \n",
    "    # Get intersection points of horizontal line with distribution. \n",
    "    if auc<HPD:\n",
    "        rv_max, rv_min = rv_mid, rv_min\n",
    "    elif auc>HPD:\n",
    "        rv_max, rv_min = rv_max, rv_mid\n",
    "        \n",
    "    rv_mid = (rv_max + rv_min) / 2.\n",
    "    x0     = roots_\n",
    "    roots_ = _intersect(f1=f1, f2=f2, xinit=x0)\n",
    "    auc    = rv.cdf(roots_[-1]) - rv.cdf(roots_[0])\n"
   ]
  },
  {
   "cell_type": "code",
   "execution_count": 174,
   "metadata": {},
   "outputs": [
    {
     "data": {
      "image/png": "[encoded data removed]",
      "text/plain": [
       "<Figure size 760x570 with 1 Axes>"
      ]
     },
     "metadata": {
      "needs_background": "light"
     },
     "output_type": "display_data"
    }
   ],
   "source": [
    "\"\"\"\n",
    "Visualize distribution of PRIDIT scores. Exhibit is a histogram\n",
    "with binwidth determined using a modified Freedman-Diaconis rule.\n",
    "\"\"\"\n",
    "import numpy as np\n",
    "import pandas as pd\n",
    "from scipy import stats\n",
    "import matplotlib as mpl\n",
    "import matplotlib.pyplot as plt\n",
    "\n",
    "mpl.rcParams[\"text.usetex\"] = False\n",
    "\n",
    "\n",
    "COLOR = \"#E02C70\"\n",
    "\n",
    "# rv = stats.gamma(a=alpha, scale=theta)\n",
    "# pdf_ = _gamma(alpha=alpha, theta=theta)\n",
    "# vpdf = np.vectorize(pdf_)\n",
    "\n",
    "x = np.arange(0, rv.ppf(.999), .01, dtype=np.float32)\n",
    "y = rv.pdf(x)\n",
    "\n",
    "titlestr1 = \"HPD Region (AUC = .95)\"\n",
    "titlestr2 = \"(region spanned by blue bar represents credible set)\"\n",
    "\n",
    "fig, ax = plt.subplots(nrows=1, ncols=1, figsize=(8, 6), dpi=95) \n",
    "\n",
    "ax.plot(x, y, color=COLOR)\n",
    "ax.scatter(roots_[0], rv_mid, s=30, color=COLOR)\n",
    "ax.scatter(roots_[-1], rv_mid, s=30, color=COLOR)\n",
    "\n",
    "ax.plot([roots_[0], roots_[0]], [0, rv_mid], linestyle=\"--\", linewidth=1.0, color=\"#000000\")\n",
    "ax.plot([roots_[-1], roots_[-1]], [0, rv_mid], linestyle=\"--\", linewidth=1.0, color=\"#000000\")\n",
    "ax.plot([roots_[0], roots_[-1]], [rv_mid, rv_mid], linestyle=\"--\", linewidth=.75, color=\"#000000\")\n",
    "ax.plot([roots_[0]+.5, roots_[-1]-.5], [0, 0], linestyle=\"-\", linewidth=10, color=\"blue\")\n",
    "ax.set_ylim(bottom=0)\n",
    "ax.set_xlim(0)\n",
    "ax.fill_between(x, y, where=np.logical_and(x<=roots_[-1], x>=roots_[0]), facecolor=\"#ff9ccb\", alpha=0.20)\n",
    "\n",
    "ax.set_title(titlestr1 + \"\\n\" + titlestr2, color=\"red\", loc=\"left\", fontsize=9)\n",
    "ax.tick_params(axis=\"x\", which=\"major\", labelsize=8)\n",
    "ax.tick_params(axis=\"x\", which=\"minor\", labelsize=8)\n",
    "ax.tick_params(axis=\"y\", which=\"major\", labelsize=8)\n",
    "ax.tick_params(axis=\"y\", which=\"minor\", labelsize=8)\n",
    "ax.grid(False)\n",
    "\n",
    "ax.annotate(\n",
    "    \"k(.05)={:.3f}\".format(rv_mid), (roots_[-1], rv_mid), xytext=(35, 0), \n",
    "    textcoords=\"offset points\", ha=\"center\", va=\"bottom\", fontsize=8, \n",
    "    rotation=0, color=\"#000000\"\n",
    "    )\n",
    "\n",
    "ax.annotate(\n",
    "    \"({:.2f}, {:.2f})\".format(roots_[0], roots_[-1]), \n",
    "    ((roots_[0] + roots_[-1]) / 2., rv_mid / 2.), xytext=(0, 0), \n",
    "    textcoords=\"offset points\", ha=\"center\", va=\"bottom\", \n",
    "    fontsize=8, rotation=0, color=\"#000000\"\n",
    "    )\n",
    "\n",
    "plt.show()\n"
   ]
  },
  {
   "cell_type": "code",
   "execution_count": 78,
   "metadata": {},
   "outputs": [
    {
     "data": {
      "image/png": "[encoded data removed]",
      "text/plain": [
       "<Figure size 432x288 with 1 Axes>"
      ]
     },
     "metadata": {
      "needs_background": "light"
     },
     "output_type": "display_data"
    }
   ],
   "source": [
    "rv.cdf(100)\n",
    "# pdf_(10)\n",
    "\n",
    "vpdf = np.vectorize(pdf_)\n",
    "\n",
    "x = np.arange(0, 80, .01, dtype=np.float32)\n",
    "y = vpdf(x) \n",
    "y1 = rv.pdf(x)\n",
    "\n",
    "plt.plot(x, y1)\n",
    "plt.show()"
   ]
  },
  {
   "cell_type": "markdown",
   "metadata": {},
   "source": [
    "For shape parameter $\\alpha$ and rate parameter $\\beta = 1 / \\theta{}$:     \n",
    "\n",
    "\n",
    "$$\n",
    "f(x; \\alpha, \\beta) = \\frac{\\beta^{\\alpha}}{\\Gamma(\\alpha)}x^{\\alpha - 1}e^{-x\\beta}\n",
    "$$\n",
    "\n",
    "<br>\n",
    "\n",
    "\n",
    "- The mode of the gamma distribution is $\\frac{\\alpha - 1}{\\beta{}}$.      \n",
    "<br>\n",
    "- The mean of the gamma distribution is $\\frac{\\alpha}{\\beta{}}$.       \n",
    "<br>\n",
    "- The variance of the gamma distribution is $\\frac{\\alpha}{\\beta{}^{2}}$.     \n",
    "<br>\n",
    "- The skewness of the gamma distribution is $\\frac{2}{\\sqrt{\\alpha}}$.        \n",
    "<br>\n",
    "- The kurtosis of the gamma distribution is $\\frac{6}{\\alpha}$.      \n",
    "<br>\n",
    "- The coefficient of variation of the gamma distribution is $\\frac{\\sigma}{\\mu} = \\frac{1}{\\sqrt{a}}$.    \n"
   ]
  },
  {
   "cell_type": "code",
   "execution_count": 14,
   "metadata": {},
   "outputs": [
    {
     "data": {
      "text/plain": [
       "0.4"
      ]
     },
     "execution_count": 14,
     "metadata": {},
     "output_type": "execute_result"
    }
   ],
   "source": [
    "rv_mode = (SHAPE - 1) / RATE_\n",
    "rv_mode"
   ]
  }
 ],
 "metadata": {
  "kernelspec": {
   "display_name": "Python 3",
   "language": "python",
   "name": "python3"
  },
  "language_info": {
   "codemirror_mode": {
    "name": "ipython",
    "version": 3
   },
   "file_extension": ".py",
   "mimetype": "text/x-python",
   "name": "python",
   "nbconvert_exporter": "python",
   "pygments_lexer": "ipython3",
   "version": "3.7.3"
  }
 },
 "nbformat": 4,
 "nbformat_minor": 2
}
