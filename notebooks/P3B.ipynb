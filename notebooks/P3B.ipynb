{
 "cells": [
  {
   "cell_type": "code",
   "execution_count": null,
   "metadata": {},
   "outputs": [],
   "source": []
  },
  {
   "cell_type": "code",
   "execution_count": 3,
   "metadata": {
    "collapsed": true
   },
   "outputs": [
    {
     "data": {
      "text/html": [
       "<div>\n",
       "<style scoped>\n",
       "    .dataframe tbody tr th:only-of-type {\n",
       "        vertical-align: middle;\n",
       "    }\n",
       "\n",
       "    .dataframe tbody tr th {\n",
       "        vertical-align: top;\n",
       "    }\n",
       "\n",
       "    .dataframe thead th {\n",
       "        text-align: right;\n",
       "    }\n",
       "</style>\n",
       "<table border=\"1\" class=\"dataframe\">\n",
       "  <thead>\n",
       "    <tr style=\"text-align: right;\">\n",
       "      <th></th>\n",
       "      <th>customers</th>\n",
       "      <th>hunits</th>\n",
       "      <th>aveinc</th>\n",
       "      <th>avehage</th>\n",
       "      <th>distcomp</th>\n",
       "      <th>diststore</th>\n",
       "    </tr>\n",
       "  </thead>\n",
       "  <tbody>\n",
       "    <tr>\n",
       "      <th>0</th>\n",
       "      <td>9</td>\n",
       "      <td>606</td>\n",
       "      <td>41393</td>\n",
       "      <td>3</td>\n",
       "      <td>3.04</td>\n",
       "      <td>6.32</td>\n",
       "    </tr>\n",
       "    <tr>\n",
       "      <th>1</th>\n",
       "      <td>6</td>\n",
       "      <td>641</td>\n",
       "      <td>23635</td>\n",
       "      <td>18</td>\n",
       "      <td>1.95</td>\n",
       "      <td>8.89</td>\n",
       "    </tr>\n",
       "    <tr>\n",
       "      <th>2</th>\n",
       "      <td>28</td>\n",
       "      <td>505</td>\n",
       "      <td>55475</td>\n",
       "      <td>27</td>\n",
       "      <td>6.54</td>\n",
       "      <td>2.05</td>\n",
       "    </tr>\n",
       "    <tr>\n",
       "      <th>3</th>\n",
       "      <td>11</td>\n",
       "      <td>866</td>\n",
       "      <td>64646</td>\n",
       "      <td>31</td>\n",
       "      <td>1.67</td>\n",
       "      <td>5.81</td>\n",
       "    </tr>\n",
       "    <tr>\n",
       "      <th>4</th>\n",
       "      <td>4</td>\n",
       "      <td>599</td>\n",
       "      <td>31972</td>\n",
       "      <td>7</td>\n",
       "      <td>0.72</td>\n",
       "      <td>8.11</td>\n",
       "    </tr>\n",
       "  </tbody>\n",
       "</table>\n",
       "</div>"
      ],
      "text/plain": [
       "   customers  hunits  aveinc  avehage  distcomp  diststore\n",
       "0          9     606   41393        3      3.04       6.32\n",
       "1          6     641   23635       18      1.95       8.89\n",
       "2         28     505   55475       27      6.54       2.05\n",
       "3         11     866   64646       31      1.67       5.81\n",
       "4          4     599   31972        7      0.72       8.11"
      ]
     },
     "execution_count": 3,
     "metadata": {},
     "output_type": "execute_result"
    }
   ],
   "source": [
    "import pandas as pd\n",
    "\n",
    "\n",
    "PATH = \"G:\\\\Repos\\\\GT\\\\ISYE6420\\\\Final\\\\P3.dat\"\n",
    "\n",
    "df = pd.read_csv(PATH, sep=\"\\t\")\n",
    "\n",
    "df.head()\n",
    "\n",
    "\n",
    "df[\"aveinc\"]    = df[\"aveinc\"] / 10000\n",
    "df[\"avehage\"]   = df[\"avehage\"] / 10\n",
    "df[\"distcomp\"]  = df[\"distcomp\"] / 10\n",
    "df[\"diststore\"] = df[\"diststore\"] / 10\n",
    "\n",
    "\n"
   ]
  },
  {
   "cell_type": "code",
   "execution_count": 16,
   "metadata": {},
   "outputs": [
    {
     "name": "stdout",
     "output_type": "stream",
     "text": [
      "0\n",
      "1\n",
      "2\n",
      "3\n",
      "4\n",
      "5\n"
     ]
    },
    {
     "data": {
      "text/html": [
       "<div>\n",
       "<style scoped>\n",
       "    .dataframe tbody tr th:only-of-type {\n",
       "        vertical-align: middle;\n",
       "    }\n",
       "\n",
       "    .dataframe tbody tr th {\n",
       "        vertical-align: top;\n",
       "    }\n",
       "\n",
       "    .dataframe thead th {\n",
       "        text-align: right;\n",
       "    }\n",
       "</style>\n",
       "<table border=\"1\" class=\"dataframe\">\n",
       "  <thead>\n",
       "    <tr style=\"text-align: right;\">\n",
       "      <th></th>\n",
       "      <th>params</th>\n",
       "      <th>null_deviance</th>\n",
       "      <th>deviance</th>\n",
       "      <th>ll</th>\n",
       "      <th>aic</th>\n",
       "      <th>pseudoR2</th>\n",
       "    </tr>\n",
       "  </thead>\n",
       "  <tbody>\n",
       "    <tr>\n",
       "      <th>mdl_00</th>\n",
       "      <td>aveinc:avehage</td>\n",
       "      <td>403.260504</td>\n",
       "      <td>498.087496</td>\n",
       "      <td>-457.246679</td>\n",
       "      <td>920.493359</td>\n",
       "      <td>-0.235151</td>\n",
       "    </tr>\n",
       "    <tr>\n",
       "      <th>mdl_01</th>\n",
       "      <td>aveinc:distcomp</td>\n",
       "      <td>403.260504</td>\n",
       "      <td>312.143607</td>\n",
       "      <td>-364.274735</td>\n",
       "      <td>734.549470</td>\n",
       "      <td>0.225950</td>\n",
       "    </tr>\n",
       "    <tr>\n",
       "      <th>mdl_02</th>\n",
       "      <td>aveinc:diststore</td>\n",
       "      <td>403.260504</td>\n",
       "      <td>284.790563</td>\n",
       "      <td>-350.598213</td>\n",
       "      <td>707.196426</td>\n",
       "      <td>0.293780</td>\n",
       "    </tr>\n",
       "    <tr>\n",
       "      <th>mdl_03</th>\n",
       "      <td>avehage:distcomp</td>\n",
       "      <td>403.260504</td>\n",
       "      <td>391.406387</td>\n",
       "      <td>-403.906125</td>\n",
       "      <td>813.812250</td>\n",
       "      <td>0.029396</td>\n",
       "    </tr>\n",
       "    <tr>\n",
       "      <th>mdl_04</th>\n",
       "      <td>avehage:diststore</td>\n",
       "      <td>403.260504</td>\n",
       "      <td>378.229523</td>\n",
       "      <td>-397.317693</td>\n",
       "      <td>800.635386</td>\n",
       "      <td>0.062071</td>\n",
       "    </tr>\n",
       "    <tr>\n",
       "      <th>mdl_05</th>\n",
       "      <td>distcomp:diststore</td>\n",
       "      <td>403.260504</td>\n",
       "      <td>370.793877</td>\n",
       "      <td>-393.599870</td>\n",
       "      <td>793.199740</td>\n",
       "      <td>0.080510</td>\n",
       "    </tr>\n",
       "  </tbody>\n",
       "</table>\n",
       "</div>"
      ],
      "text/plain": [
       "                    params  null_deviance    deviance          ll         aic  \\\n",
       "mdl_00      aveinc:avehage     403.260504  498.087496 -457.246679  920.493359   \n",
       "mdl_01     aveinc:distcomp     403.260504  312.143607 -364.274735  734.549470   \n",
       "mdl_02    aveinc:diststore     403.260504  284.790563 -350.598213  707.196426   \n",
       "mdl_03    avehage:distcomp     403.260504  391.406387 -403.906125  813.812250   \n",
       "mdl_04   avehage:diststore     403.260504  378.229523 -397.317693  800.635386   \n",
       "mdl_05  distcomp:diststore     403.260504  370.793877 -393.599870  793.199740   \n",
       "\n",
       "        pseudoR2  \n",
       "mdl_00 -0.235151  \n",
       "mdl_01  0.225950  \n",
       "mdl_02  0.293780  \n",
       "mdl_03  0.029396  \n",
       "mdl_04  0.062071  \n",
       "mdl_05  0.080510  "
      ]
     },
     "execution_count": 16,
     "metadata": {},
     "output_type": "execute_result"
    }
   ],
   "source": [
    "import numpy as np\n",
    "import seaborn as sns\n",
    "import statsmodels\n",
    "import statsmodels.api as sm\n",
    "import statsmodels.formula.api as smf\n",
    "from statsmodels.tools.eval_measures import rmse\n",
    "\n",
    "# 01: ('aveinc', 'avehage')\n",
    "# 02: ('aveinc', 'distcomp')\n",
    "# 03: ('aveinc', 'diststore')\n",
    "# 04: ('avehage', 'distcomp')\n",
    "# 05: ('avehage', 'diststore')\n",
    "# 06: ('distcomp', 'diststore')\n",
    "    \n",
    "\n",
    "models = [\n",
    "    ('aveinc', 'avehage'), ('aveinc', 'distcomp'), ('aveinc', 'diststore'),\n",
    "    ('avehage', 'distcomp'), ('avehage', 'diststore'), ('distcomp', 'diststore'),\n",
    "    ]\n",
    "\n",
    "dsumm = {}\n",
    "summlist = []\n",
    "for indx, tt in enumerate(models):\n",
    "    print(indx)\n",
    "    desc = \"mdl_{}\".format(str(indx).zfill(2))\n",
    "    params = \":\".join(tt)\n",
    "    expr = \"customers ~ \" + \" + \".join(tt)\n",
    "    mdl = smf.glm(\n",
    "        formula=expr, data=df, \n",
    "        family=sm.families.Poisson(link=sm.families.links.log),\n",
    "        exposure=df[\"hunits\"]\n",
    "        ).fit()\n",
    "\n",
    "#     dmdl = {\n",
    "#         \"params\":params, \"null_deviance\":mdl.null_deviance,\n",
    "#         \"deviance\":mdl.deviance, \"llnull\":mdl.llnull, \"ll\":mdl.llf,\n",
    "#         \"aic\":mdl.aic, \"bic\":mdl.bic, \"pseudoR2\":1 - (mdl.deviance / mdl.null_deviance),\n",
    "#         \"chi2\":mdl.pearson_chi2,\n",
    "#         }\n",
    "    dmdl = {\n",
    "        \"params\":params, \"null_deviance\":mdl.null_deviance, \"deviance\":mdl.deviance, \n",
    "        \"ll\":mdl.llf, \"aic\":mdl.aic, \"pseudoR2\":1 - (mdl.deviance / mdl.null_deviance),\n",
    "        }\n",
    "    \n",
    "    dsumm[desc] = dmdl\n",
    "    df[desc] = mdl.fittedvalues\n",
    "    \n",
    "    \n",
    "# Convert list of dicts to DataFrame.\n",
    "dfsumm = pd.DataFrame().from_dict(dsumm, orient=\"index\")\n",
    "dfsumm\n"
   ]
  },
  {
   "cell_type": "code",
   "execution_count": 34,
   "metadata": {},
   "outputs": [
    {
     "name": "stdout",
     "output_type": "stream",
     "text": [
      "-4336.828812673914\n",
      "335.1711873260792\n"
     ]
    }
   ],
   "source": [
    "import numpy as np\n",
    "\n",
    "ll = (-df[\"mdl_01\"].values + df[\"customers\"].values * np.log(df[\"mdl_01\"].values)).sum()\n",
    "aa = -2 * ll + 6\n",
    "dd0 = 2 * (df[\"customers\"].values * np.log((df[\"customers\"].values / df[\"mdl_01\"].values) + .01) - df[\"customers\"].values - df[\"mdl_01\"].values).sum()\n",
    "dd1 = 2 * (df[\"customers\"].values * np.log((df[\"customers\"].values / df[\"mdl_01\"].values) + .01)).sum()\n",
    "\n",
    "print(dd0)\n",
    "print(dd1)\n"
   ]
  },
  {
   "cell_type": "code",
   "execution_count": 33,
   "metadata": {},
   "outputs": [
    {
     "data": {
      "text/plain": [
       "1168"
      ]
     },
     "execution_count": 33,
     "metadata": {},
     "output_type": "execute_result"
    }
   ],
   "source": [
    "#df[\"mdl_01\"].sum()\n",
    "df[\"customers\"].sum()"
   ]
  },
  {
   "cell_type": "code",
   "execution_count": 35,
   "metadata": {},
   "outputs": [],
   "source": [
    "np.clip?\n"
   ]
  },
  {
   "cell_type": "code",
   "execution_count": 28,
   "metadata": {},
   "outputs": [],
   "source": [
    "sm.families.family?"
   ]
  }
 ],
 "metadata": {
  "kernelspec": {
   "display_name": "Python 3",
   "language": "python",
   "name": "python3"
  },
  "language_info": {
   "codemirror_mode": {
    "name": "ipython",
    "version": 3
   },
   "file_extension": ".py",
   "mimetype": "text/x-python",
   "name": "python",
   "nbconvert_exporter": "python",
   "pygments_lexer": "ipython3",
   "version": "3.7.3"
  }
 },
 "nbformat": 4,
 "nbformat_minor": 2
}
