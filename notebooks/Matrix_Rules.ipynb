{
 "cells": [
  {
   "cell_type": "markdown",
   "metadata": {},
   "source": [
    "Let $A$ be a square matrix and $r,s \\in \\mathbb{Z}$ and $k \\in \\mathbb{R}$.\n",
    "<br>\n",
    "\n",
    "- $A^{r}A^{s} = A^{r+s}$      \n",
    "- $(A^{r})^{s} = A^{rs}$   \n",
    "- $A^{-n} = (A^{-1})^{n}$    \n",
    "- $(kA)^{-1} = \\frac{1}{k}A^{-1} \\hspace{.25em}$ for $k \\neq 0$    \n",
    "- $(A^{T})^{T} = A$    \n",
    "- $(A+B)^{T} = A^{T} + B^{T}$   \n",
    "- $(kA)^{T} = kA^{T}$         \n",
    "- $(AB)^{T} = B^{T}A^{T}$      \n",
    "- \n"
   ]
  }
 ],
 "metadata": {
  "kernelspec": {
   "display_name": "Python 3",
   "language": "python",
   "name": "python3"
  },
  "language_info": {
   "codemirror_mode": {
    "name": "ipython",
    "version": 3
   },
   "file_extension": ".py",
   "mimetype": "text/x-python",
   "name": "python",
   "nbconvert_exporter": "python",
   "pygments_lexer": "ipython3",
   "version": "3.8.3"
  }
 },
 "nbformat": 4,
 "nbformat_minor": 2
}
